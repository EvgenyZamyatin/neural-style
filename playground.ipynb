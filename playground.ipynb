{
 "cells": [
  {
   "cell_type": "code",
   "execution_count": null,
   "metadata": {
    "collapsed": false,
    "scrolled": true
   },
   "outputs": [],
   "source": [
    "%matplotlib inline\n",
    "\n",
    "import os\n",
    "import ssl\n",
    "from time import time\n",
    "from urllib.request import urlopen\n",
    "from tempfile import NamedTemporaryFile\n",
    "\n",
    "# Set this appropriately.\n",
    "os.environ[\"THEANO_FLAGS\"] = \"device=gpu2\"\n",
    "\n",
    "import theano\n",
    "import numpy as np\n",
    "import matplotlib.pyplot as plt\n",
    "from scipy.misc import imsave\n",
    "\n",
    "from neural_style.utils import *\n",
    "from neural_style.fast_neural_style.transformer_net import get_transformer_net"
   ]
  },
  {
   "cell_type": "code",
   "execution_count": null,
   "metadata": {
    "collapsed": true
   },
   "outputs": [],
   "source": [
    "class Model:\n",
    "    \n",
    "    def __init__(self, model_path):\n",
    "        self.X = theano.shared(np.array([[[[]]]], dtype=floatX))\n",
    "        transformer_net = get_transformer_net(self.X, model_path)\n",
    "        Xtr = transformer_net.output\n",
    "        self.get_Xtr = theano.function([], Xtr)\n",
    "        self.ssl_context = ssl.SSLContext(ssl.PROTOCOL_TLSv1)\n",
    "    \n",
    "    def style_image_by_path(self, path, size=None, output_path=None):\n",
    "        img = load_and_preprocess_img(path, size=size)\n",
    "        start = time()\n",
    "        self.X.set_value(img)\n",
    "        img_tr = self.get_Xtr()\n",
    "        img_tr = img_tr[0, :, :, :]\n",
    "        add_imagenet_mean(img_tr)\n",
    "        img_tr = img_tr[::-1].transpose((1, 2, 0))\n",
    "        img_tr = np.clip(img_tr, 0, 255).astype(np.uint8)\n",
    "        time_taken = int((time() - start) * 1000)\n",
    "        print(\"Took {}ms\".format(time_taken))\n",
    "        plt.figure(figsize=(10, 10))\n",
    "        plt.imshow(img_tr)\n",
    "        plt.axis(\"off\")\n",
    "        if output_path is not None:\n",
    "            imsave(output_path, img_tr)\n",
    "        self.X.set_value(np.array([[[[]]]], dtype=floatX))\n",
    "    \n",
    "    def style_image_by_url(self, url, size=None, output_path=None):\n",
    "        with NamedTemporaryFile(buffering=0) as f:\n",
    "            imdata = urlopen(url, context=self.ssl_context).read()\n",
    "            f.write(imdata)\n",
    "            f.flush()\n",
    "            os.fsync(f)\n",
    "            self.style_image_by_path(f.name, size, output_path)"
   ]
  },
  {
   "cell_type": "markdown",
   "metadata": {
    "collapsed": true
   },
   "source": [
    "# Usage\n",
    "\n",
    "Create a model with\n",
    "```python\n",
    "model = Model(</path/to/model/weights>)\n",
    "```\n",
    "Then you can use this to style images with the two member functions `style_image_by_path` and `style_image_by_url`. They take a path or a URL respectively as the first argument, and display the styled image. You can also pass a `size` argument to resize the image before styling, and you can pass a `output_path` argument to save the output image."
   ]
  },
  {
   "cell_type": "code",
   "execution_count": null,
   "metadata": {
    "collapsed": true
   },
   "outputs": [],
   "source": []
  }
 ],
 "metadata": {
  "kernelspec": {
   "display_name": "Python 3",
   "language": "python",
   "name": "python3"
  },
  "language_info": {
   "codemirror_mode": {
    "name": "ipython",
    "version": 3
   },
   "file_extension": ".py",
   "mimetype": "text/x-python",
   "name": "python",
   "nbconvert_exporter": "python",
   "pygments_lexer": "ipython3",
   "version": "3.5.2"
  }
 },
 "nbformat": 4,
 "nbformat_minor": 0
}
